{
 "cells": [
  {
   "cell_type": "markdown",
   "metadata": {},
   "source": [
    "# Import những thư viện sử dụng"
   ]
  },
  {
   "cell_type": "code",
   "execution_count": 76,
   "metadata": {},
   "outputs": [],
   "source": [
    "import re\n",
    "from pyvi import ViTokenizer, ViPosTagger, ViUtils\n",
    "import pandas as pd\n",
    "import json"
   ]
  },
  {
   "cell_type": "markdown",
   "metadata": {},
   "source": [
    "# Tiền xử lý"
   ]
  },
  {
   "cell_type": "code",
   "execution_count": 6,
   "metadata": {},
   "outputs": [],
   "source": [
    "#chuyển các đoạn thành một đoạn\n",
    "def makeParagraph(m):\n",
    "    l = [':','.','-',';']\n",
    "    tmp = m\n",
    "    tmp = tmp.split('\\n')\n",
    "    para = \"\"\n",
    "    for i in tmp:\n",
    "        if i=='': continue\n",
    "        if para==\"\":\n",
    "            para+=i\n",
    "            continue\n",
    "        if para[-1] in l: \n",
    "            para+=' '+i\n",
    "            continue\n",
    "        if para[-1] not in l: \n",
    "            para+='. '+i\n",
    "            continue\n",
    "    return para"
   ]
  },
  {
   "cell_type": "code",
   "execution_count": 46,
   "metadata": {},
   "outputs": [],
   "source": [
    "#thay thế những chữ viết tắt\n",
    "def replaceAcr(para):\n",
    "    emoji_pattern = re.compile(\"[\"\n",
    "           u\"\\U0001F600-\\U0001F64F\"  # emoticons\n",
    "           u\"\\U0001F300-\\U0001F5FF\"  # symbols & pictographs\n",
    "           u\"\\U0001F680-\\U0001F6FF\"  # transport & map symbols\n",
    "           u\"\\U0001F1E0-\\U0001F1FF\"  # flags (iOS)\n",
    "           u\"\\U00002702-\\U000027B0\"\n",
    "           u\"\\U000024C2-\\U0001F251\"\n",
    "                           \"]+\", flags=re.UNICODE)\n",
    "    m = para\n",
    "    m = m.replace('TPHCM',' thành phố Hồ Chí Minh')\n",
    "    m = m.replace('NC', 'nguyên căn')\n",
    "    m = emoji_pattern.sub(r'', m)\n",
    "#     m = re.sub(r'[^\\d\\s\\d]',',',m)\n",
    "    m = m.replace('\\r','')\n",
    "    m = m.replace('BĐS','bất động sản')\n",
    "    m = m.replace('CĐT','chủ đầu tư')\n",
    "    m = m.replace('CNQSĐ','chuyển nhượng quyền sử dụng đất')\n",
    "    m = m.replace('CNQSDĐ','chuyển nhượng quyền sử dụng đất')\n",
    "    m = m.replace('BĐS','bất động sản')\n",
    "    m = m.replace('LH','liên hệ')\n",
    "    m = m.replace('lh','liên hệ')\n",
    "    m = m.replace('Lh','liên hệ')\n",
    "    m = m.replace(' LK ',' liền kề ')\n",
    "    m = m.replace(' KĐT ',' khu đô thị ')\n",
    "    m = m.replace(' TK ',' thiết kế ')\n",
    "    m = m.replace('WC',' nhà vệ sinh ')\n",
    "    m = m.replace('KCN','khu công nghiệp')\n",
    "    m = m.replace('KDC','khu dân cư')\n",
    "    m = m.replace('PN',' phòng ngủ ')\n",
    "    m = m.replace('pn',' phòng ngủ ')\n",
    "    m = m.replace('wc',' nhà vệ sinh ')\n",
    "    m = m.replace('MT',' mặt tiền ')\n",
    "    m = m.replace('mt',' mặt tiền ')\n",
    "    m = m.replace('Mt',' mặt tiền ')\n",
    "    m = m.replace('TL','thương lượng ')\n",
    "    m = m.replace('TĐC','tái định cư')\n",
    "    m = m.replace('HXH','hẻm xe hơi')\n",
    "    m = m.replace('HXT','hẻm xe tải')\n",
    "    m = m.replace('HCM','Hồ Chí Minh')\n",
    "    m = m.replace(' TT ','trung tâm ')\n",
    "    m = m.replace(' tt ','trung tâm ')\n",
    "    m = m.replace(' TTTM ',' trung tâm thương mại ')\n",
    "    m = m.replace(' ttmt ',' trung tâm thương mại ')\n",
    "    m = m.replace(' TX ',' thị xã ')\n",
    "    m = m.replace(' tx ',' thị xã ')\n",
    "    m = m.replace(' TP ',' thành phố ')\n",
    "    m = m.replace(' Tp.',' thành phố ')\n",
    "    m = m.replace(' tp ',' thành phố ')\n",
    "    m = m.replace('P.','phường ')\n",
    "    m = m.replace('Q.','quận ')\n",
    "    m = m.replace('P. ','phường ')\n",
    "    m = m.replace('Q. ','quận ')\n",
    "    m = m.replace(' P ',' phường ')\n",
    "    m = m.replace(' Q ',' quận ')\n",
    "    m = m.replace(' p ',' phường ')\n",
    "    m = m.replace(' p ',' quận ')\n",
    "    m = m.replace('HT','hỗ trợ')\n",
    "    m = m.replace('DT','diện tích')\n",
    "    m = m.replace('Dt','diện tích')\n",
    "    m = m.replace('dt','diện tích')\n",
    "    m = m.replace(' TR ',' triệu ')\n",
    "    m = m.replace('m2 ',' m2 ')\n",
    "    m = m.replace('m² ',' m² ')\n",
    "    m = m.replace(' .',' .')\n",
    "    m = m.replace('SHR','sổ hồng riêng')\n",
    "    m = m.replace('XDTD','xây dựng tự do')\n",
    "    m = m.replace('XD','xây dựng')\n",
    "    for j in range(10):\n",
    "      m = m.replace(str(j)+'tr ', str(j)+' triệu')\n",
    "      m = m.replace(str(j)+'TR ', str(j)+' triệu')\n",
    "    m = m.replace('tr/th',' triệu/tháng')\n",
    "    m = m.replace('TR/',' triệu/')\n",
    "    m = m.replace(' TR ',' triệu ')\n",
    "    m = m.replace(' tr ',' triệu ')\n",
    "    m = m.replace('tr/',' triệu/')\n",
    "    m = m.replace(' HH cho mg',' hoa hồng cho môi giới')\n",
    "    m = m.replace(' TC ',' thổ cư ')\n",
    "    m = re.sub(r\"\\s\\s+\", ' ', m)\n",
    "    return m"
   ]
  },
  {
   "cell_type": "markdown",
   "metadata": {},
   "source": [
    "# Tokernize và phân câu"
   ]
  },
  {
   "cell_type": "code",
   "execution_count": 48,
   "metadata": {},
   "outputs": [],
   "source": [
    "def splitTokAndPt(m):\n",
    "    para = m.split('.')\n",
    "    l = []\n",
    "    for i in para:\n",
    "        l.append(ViPosTagger.postagging(ViTokenizer.tokenize(i)))\n",
    "    return l"
   ]
  },
  {
   "cell_type": "code",
   "execution_count": 52,
   "metadata": {},
   "outputs": [],
   "source": [
    "def tokAndPt(m):\n",
    "    return ViPosTagger.postagging(ViTokenizer.tokenize(m))"
   ]
  },
  {
   "cell_type": "markdown",
   "metadata": {},
   "source": [
    "# Thiết lập các luật "
   ]
  },
  {
   "cell_type": "code",
   "execution_count": 9,
   "metadata": {},
   "outputs": [],
   "source": [
    "# tìm từ bằng từ điển từ\n",
    "def findCandidateByWords(words, dict_):\n",
    "    cand = []\n",
    "    for i in range(len(words)):\n",
    "        if words[i] in dict_: cand.append(words[i])\n",
    "        elif words[i].capitalize()  in dict_: cand.append(words[i])\n",
    "        elif words[i].lower() in dict_: cand.append(words[i])\n",
    "        else: continue\n",
    "    return list(set(cand))"
   ]
  },
  {
   "cell_type": "code",
   "execution_count": 10,
   "metadata": {},
   "outputs": [],
   "source": [
    "# tìm từ bằng tags\n",
    "def findCandidateByTags(words, tags, dict_):\n",
    "    cand = []\n",
    "    for i in range(len(tags)):\n",
    "        if tags[i] in dict_: cand.append(words[i])\n",
    "    return list(set(cand))"
   ]
  },
  {
   "cell_type": "code",
   "execution_count": 11,
   "metadata": {},
   "outputs": [],
   "source": [
    "# tìm từ bằng tags và từ điển từ\n",
    "def findCandidateByBoth(words, tags, dict1, dict2, t):\n",
    "    cand = []\n",
    "    for i in range(len(tags)):\n",
    "        if tags[i] in dict2 and words[i] in dict1 and len(words[:i+1])>t+1:\n",
    "            cand.append(words[i-t:i+1])\n",
    "    return cand"
   ]
  },
  {
   "cell_type": "code",
   "execution_count": 12,
   "metadata": {},
   "outputs": [],
   "source": [
    "# loại bỏ từ thừa thãi\n",
    "def deleteRedundant(X, Y, dict1, dict2):\n",
    "    words=[]\n",
    "    tags=[]\n",
    "    for i in range(len(X)):\n",
    "        if X[i] in dict1: continue\n",
    "        if Y[i] in dict2: continue\n",
    "        words.append(X[i])\n",
    "        tags.append(Y[i])\n",
    "    return words, tags"
   ]
  },
  {
   "cell_type": "code",
   "execution_count": 13,
   "metadata": {},
   "outputs": [],
   "source": [
    "# xóa những từ giống nhau khi viết thường\n",
    "def removeCL(X):\n",
    "    cand = []\n",
    "    for i in X:\n",
    "        if i.lower() not in cand: cand.append(i.lower())\n",
    "    return cand"
   ]
  },
  {
   "cell_type": "code",
   "execution_count": 14,
   "metadata": {},
   "outputs": [],
   "source": [
    "# xóa tập từ\n",
    "def remove_(X, Y):\n",
    "    cand = []\n",
    "    for i in X:\n",
    "        if i not in Y: cand.append(i)\n",
    "    return cand"
   ]
  },
  {
   "cell_type": "code",
   "execution_count": 15,
   "metadata": {},
   "outputs": [],
   "source": [
    "# tìm các vị trí từ\n",
    "def findLocation(X, Y):\n",
    "    m = []\n",
    "    for i in range(len(X)):\n",
    "        if X[i] == Y: m.append(i)\n",
    "    return m"
   ]
  },
  {
   "cell_type": "code",
   "execution_count": 16,
   "metadata": {},
   "outputs": [],
   "source": [
    "# kiểm tra chuỗi từ có tag hợp lệ\n",
    "def check(i, j, tags, dict_):\n",
    "    while i<j:\n",
    "        if tags[i] not in dict_: \n",
    "            return False\n",
    "        else: i+=1\n",
    "    return True"
   ]
  },
  {
   "cell_type": "code",
   "execution_count": 17,
   "metadata": {},
   "outputs": [],
   "source": [
    "# tìm mảng lớn nhất\n",
    "def findMaxLength(X):\n",
    "    k = 0\n",
    "    max_ = []\n",
    "    for i in X:\n",
    "        if len(i)>k:\n",
    "            k=len(i)\n",
    "            max_=i\n",
    "    return max_"
   ]
  },
  {
   "cell_type": "code",
   "execution_count": 18,
   "metadata": {},
   "outputs": [],
   "source": [
    "# check trùng\n",
    "def checkAdd(X, condition):\n",
    "    cand, loai = [], []\n",
    "    max_ = findMaxLength(X)\n",
    "    cand.append(max_)\n",
    "    for i in X:\n",
    "        for j in i:\n",
    "            if j in condition and i not in loai:\n",
    "                loai.append(i)\n",
    "    for i in X:\n",
    "        if i==[]: continue\n",
    "        for j in i:\n",
    "            if j not in max_ and i not in cand and i not in loai:\n",
    "                cand.append(i)\n",
    "                break\n",
    "    return cand"
   ]
  },
  {
   "cell_type": "code",
   "execution_count": 19,
   "metadata": {},
   "outputs": [],
   "source": [
    "# xác định loại tin\n",
    "def findTypeEstate(words, loai_tin):\n",
    "    m = removeCL(findCandidateByWords(words, loai_tin))\n",
    "    if m==[]:return ['lô đất']\n",
    "    return m"
   ]
  },
  {
   "cell_type": "code",
   "execution_count": 20,
   "metadata": {},
   "outputs": [],
   "source": [
    "# Xác định loại bds\n",
    "def findCategoryEstate(words, loai_nha):\n",
    "    cand = findCandidateByWords(words, loai_nha)\n",
    "    CE = []\n",
    "    for i in cand:\n",
    "        temp = words.index(i)\n",
    "        if i in ['1', '2', '3', '4']:\n",
    "            if words[temp-1] in ['cấp','Cấp']:\n",
    "                CE.append(i)    \n",
    "        else: CE.append(i)\n",
    "    return removeCL(CE)"
   ]
  },
  {
   "cell_type": "code",
   "execution_count": 21,
   "metadata": {},
   "outputs": [],
   "source": [
    "# Xác định diện tích\n",
    "def findArea(words, tags, do_luong, dict_):\n",
    "    Area = []\n",
    "    cand = findCandidateByBoth(words, tags, do_luong, dict_,1)\n",
    "    return cand"
   ]
  },
  {
   "cell_type": "code",
   "execution_count": 22,
   "metadata": {},
   "outputs": [],
   "source": [
    "# Tìm địa chỉ\n",
    "def findAddress(words, tags, tinh, huyen):\n",
    "    road, mem = [], []\n",
    "    dict_ = ['Địa chỉ','địa chỉ']\n",
    "    add = []\n",
    "    for i in dict_:\n",
    "        add = findLocation(words, i)\n",
    "        if add!=[]:\n",
    "            for i in add:\n",
    "                road=words[i+1:]\n",
    "    cand = findCandidateByTags(words, tags, ['Np'])\n",
    "    city = findCandidateByWords(cand, tinh)\n",
    "    district = findCandidateByWords(cand, huyen)\n",
    "    if district!=[]:\n",
    "        cand = remove_(cand, district)\n",
    "        mem = findLocation(words, district[0])\n",
    "    if city!=[]:\n",
    "        cand = remove_(cand, city)\n",
    "    if city!=[] and district==[]:        \n",
    "        mem = findLocation(words, city[0])\n",
    "    if mem!=[] and road==[]:\n",
    "        for v in cand:\n",
    "            n = findLocation(words, v)\n",
    "            for i in mem:\n",
    "                for j in n:\n",
    "                    if i>j and i-j<=4 and check(j, i+1, tags, ['N', 'Np', 'M']):\n",
    "                            road=words[j:i+1]\n",
    "    return road, district, city"
   ]
  },
  {
   "cell_type": "code",
   "execution_count": 23,
   "metadata": {},
   "outputs": [],
   "source": [
    "def getPrice(words, i):\n",
    "    if words[i] in ['triệu', 'Triệu']:\n",
    "        w = words[i-3:i+1]\n",
    "        if 'tỷ' in w or 'Tỷ' in w: return w\n",
    "        else: return words[i-1:i+1]\n",
    "    if words[i] in ['tỷ', 'Tỷ']:\n",
    "        w = words[i-1:i+3]\n",
    "        if 'triệu' in w or 'Triệu' in w: return w\n",
    "        else: return words[i-1:i+1]"
   ]
  },
  {
   "cell_type": "code",
   "execution_count": 24,
   "metadata": {},
   "outputs": [],
   "source": [
    "# tìm giá nhà\n",
    "def findPrice(words, tags, donvi_tien, don_vi):\n",
    "    price = []\n",
    "    cand = findCandidateByBoth(words, tags, donvi_tien, ['Nu'], 2)\n",
    "    for i in cand:\n",
    "        if len(i[1])>6: price.append(i[-2:])\n",
    "        elif i[1] in don_vi: price.append(i)\n",
    "    cand = findCandidateByWords(words, don_vi)\n",
    "    for i in cand:\n",
    "        l = findLocation(words, i)\n",
    "        for j in l:\n",
    "            p = getPrice(words,j)\n",
    "            if p not in price: price.append(p)\n",
    "    return price"
   ]
  },
  {
   "cell_type": "code",
   "execution_count": 25,
   "metadata": {},
   "outputs": [],
   "source": [
    "# Tìm số điện thoại\n",
    "def findNumber(words, tags):\n",
    "    number=[]\n",
    "    for i in range(len(tags)):\n",
    "        if tags[i]=='M' and len(words[i])>=10 and '.' not in words[i]:\n",
    "            number.append(words[i])\n",
    "    return number"
   ]
  },
  {
   "cell_type": "code",
   "execution_count": 26,
   "metadata": {},
   "outputs": [],
   "source": [
    "# Tìm họ tên\n",
    "def findName(words, tags, road, district, city, ten, ho):\n",
    "    cand = findCandidateByTags(words, tags, ['Np'])\n",
    "    cand = remove_(cand, road)\n",
    "    cand = remove_(cand, district)\n",
    "    cand = remove_(cand, city)\n",
    "    na=[]\n",
    "    sur = []\n",
    "    fullname = []\n",
    "    for i in cand:\n",
    "        if i in ten:\n",
    "            na.append(i)\n",
    "        if i in ho: \n",
    "            sur.append(i)\n",
    "    if sur != []:\n",
    "        for i in sur:\n",
    "            for j in na:\n",
    "                if j in i: fullname.append(i)\n",
    "                else: fullname.append(i+' '+j)\n",
    "    else: fullname = na\n",
    "    return fullname"
   ]
  },
  {
   "cell_type": "code",
   "execution_count": 27,
   "metadata": {},
   "outputs": [],
   "source": [
    "#lọc null\n",
    "def filter(m):\n",
    "    l = []\n",
    "    for i in m:\n",
    "        if i!=[]: l.append(i)\n",
    "    return l"
   ]
  },
  {
   "cell_type": "code",
   "execution_count": 28,
   "metadata": {},
   "outputs": [],
   "source": [
    "def read(X):\n",
    "    with open(X, mode='r', encoding='utf-8') as f:\n",
    "        m = f.read()\n",
    "    return m.split('\\n')"
   ]
  },
  {
   "cell_type": "markdown",
   "metadata": {},
   "source": [
    "# Nhập từ điển"
   ]
  },
  {
   "cell_type": "code",
   "execution_count": 29,
   "metadata": {},
   "outputs": [],
   "source": [
    "# import các từ điển\n",
    "dia_gioi = read('C:/Users/super/OneDrive/Desktop/nlp_project/dictionary/dia_gioi.txt')\n",
    "huyen = read('C:/Users/super/OneDrive/Desktop/nlp_project/dictionary/huyen')\n",
    "tinh = read('C:/Users/super/OneDrive/Desktop/nlp_project/dictionary/tinh')\n",
    "loai_tin = read('C:/Users/super/OneDrive/Desktop/nlp_project/dictionary/loai_tin.txt')\n",
    "loai_nha = read('C:/Users/super/OneDrive/Desktop/nlp_project/dictionary/loai_nha.txt')\n",
    "don_vi = ['tỷ', 'triệu', 'Tỷ', 'Triệu']\n",
    "donvi_tien = ['đ', 'đồng', 'Đồng', 'Đ']\n",
    "do_luong = ['m²', 'ha', 'km²', 'm2', 'km2']\n",
    "name = read('C:/Users/super/OneDrive/Desktop/nlp_project/dictionary/ten')\n",
    "ho = read('C:/Users/super/OneDrive/Desktop/nlp_project/dictionary/ho')"
   ]
  },
  {
   "cell_type": "markdown",
   "metadata": {},
   "source": [
    "# Tìm thực thể"
   ]
  },
  {
   "cell_type": "code",
   "execution_count": 91,
   "metadata": {},
   "outputs": [],
   "source": [
    "with open('data/advertisements_5', 'r', encoding='utf-8') as f:\n",
    "    test = f.read()"
   ]
  },
  {
   "cell_type": "code",
   "execution_count": 89,
   "metadata": {},
   "outputs": [],
   "source": [
    "def findElement(m):\n",
    "    p = makeParagraph(m)\n",
    "    p = replaceAcr(p)\n",
    "    p = tokAndPt(p)\n",
    "    for i in range(len(p[0])):\n",
    "        p[0][i]=p[0][i].replace('_',' ')\n",
    "    rem = ['E','C', 'I','L','P', 'R', 'T', 'X', 'F','Nc']\n",
    "    words, tags = deleteRedundant(k[0], k[1], [], rem)\n",
    "    number = findNumber(words, tags)\n",
    "    price = findPrice(words, tags, donvi_tien, don_vi)\n",
    "    area = findArea(words, tags, do_luong, ['Nu','N','Np'])\n",
    "    typeE = findTypeEstate(words, loai_tin)\n",
    "    cateE = findCategoryEstate(words, loai_nha)\n",
    "    return typeE, cateE, area, price, number"
   ]
  },
  {
   "cell_type": "code",
   "execution_count": 90,
   "metadata": {},
   "outputs": [],
   "source": [
    "def findElement1(m):\n",
    "    p = makeParagraph(m)\n",
    "    p = replaceAcr(p)\n",
    "    p = splitTokAndPt(p)\n",
    "    rd, dt, ct, fullname = [], [], [], []\n",
    "    for k in p:\n",
    "        for i in range(len(k[0])):\n",
    "            k[0][i]=k[0][i].replace('_',' ')\n",
    "        rem = ['E','C', 'I','L','P', 'R', 'T', 'X', 'F','Nc']\n",
    "        words, tags = deleteRedundant(k[0], k[1], [], rem)\n",
    "        road, district, city = findAddress(words, tags, tinh, huyen)\n",
    "        if road!=[]: rd.append(road)\n",
    "        dt+=district\n",
    "        ct+=city\n",
    "        fullname+=findName(words, tags, road, huyen, tinh, name, ho)\n",
    "    rd = checkAdd(rd,[])\n",
    "    dt = checkAdd(dt,[])\n",
    "    ct = checkAdd(ct,[])\n",
    "    fullname = checkAdd(fullname,[])\n",
    "    return rd, dt, ct, fullname"
   ]
  },
  {
   "cell_type": "code",
   "execution_count": 149,
   "metadata": {},
   "outputs": [],
   "source": [
    "def findAll(test):\n",
    "    road, pr, ae = [], [], []\n",
    "    typeE, cateE, area, price, number = findElement(test)\n",
    "    rd, dt, ct, fullname = findElement1(test)\n",
    "    for i in rd: road.append(connectString(i, dia_gioi))\n",
    "    for i in price: pr.append(connectString(i,[]))\n",
    "    for i in area: ae.append(connectString(i,[]))\n",
    "    return typeE, cateE, ae, road, dt, ct, pr, number"
   ]
  },
  {
   "cell_type": "code",
   "execution_count": 144,
   "metadata": {},
   "outputs": [],
   "source": [
    "def connectString(m, constraint):\n",
    "    s = ''\n",
    "    for i in m:\n",
    "        if i in constraint: i = i.lower()\n",
    "        if s=='': s+=i\n",
    "        else: s += ' '+i\n",
    "    return s"
   ]
  },
  {
   "cell_type": "code",
   "execution_count": null,
   "metadata": {},
   "outputs": [],
   "source": [
    "with open('test.txt', mode='w', encoding='utf-8'):\n",
    "    "
   ]
  },
  {
   "cell_type": "code",
   "execution_count": 150,
   "metadata": {},
   "outputs": [],
   "source": [
    "typeE, cateE, area, rd, dt, ct, price, number = findAll(test)"
   ]
  },
  {
   "cell_type": "code",
   "execution_count": 133,
   "metadata": {},
   "outputs": [
    {
     "data": {
      "text/plain": [
       "['bán']"
      ]
     },
     "execution_count": 133,
     "metadata": {},
     "output_type": "execute_result"
    }
   ],
   "source": [
    "typeE"
   ]
  },
  {
   "cell_type": "code",
   "execution_count": 134,
   "metadata": {},
   "outputs": [
    {
     "data": {
      "text/plain": [
       "['hẻm']"
      ]
     },
     "execution_count": 134,
     "metadata": {},
     "output_type": "execute_result"
    }
   ],
   "source": [
    "cateE"
   ]
  },
  {
   "cell_type": "code",
   "execution_count": 135,
   "metadata": {},
   "outputs": [
    {
     "data": {
      "text/plain": [
       "['56 m²']"
      ]
     },
     "execution_count": 135,
     "metadata": {},
     "output_type": "execute_result"
    }
   ],
   "source": [
    "area"
   ]
  },
  {
   "cell_type": "code",
   "execution_count": 136,
   "metadata": {},
   "outputs": [
    {
     "data": {
      "text/plain": [
       "['3.850.000.000 đ']"
      ]
     },
     "execution_count": 136,
     "metadata": {},
     "output_type": "execute_result"
    }
   ],
   "source": [
    "price"
   ]
  },
  {
   "cell_type": "code",
   "execution_count": 137,
   "metadata": {},
   "outputs": [
    {
     "data": {
      "text/plain": [
       "['0726495198']"
      ]
     },
     "execution_count": 137,
     "metadata": {},
     "output_type": "execute_result"
    }
   ],
   "source": [
    "number"
   ]
  },
  {
   "cell_type": "code",
   "execution_count": 151,
   "metadata": {},
   "outputs": [
    {
     "data": {
      "text/plain": [
       "['Tô Hiệu Phường Tân Thới Hòa']"
      ]
     },
     "execution_count": 151,
     "metadata": {},
     "output_type": "execute_result"
    }
   ],
   "source": [
    "rd"
   ]
  },
  {
   "cell_type": "code",
   "execution_count": 139,
   "metadata": {},
   "outputs": [
    {
     "data": {
      "text/plain": [
       "['Tân Phú']"
      ]
     },
     "execution_count": 139,
     "metadata": {},
     "output_type": "execute_result"
    }
   ],
   "source": [
    "dt"
   ]
  },
  {
   "cell_type": "code",
   "execution_count": 140,
   "metadata": {},
   "outputs": [
    {
     "data": {
      "text/plain": [
       "['Hồ Chí Minh']"
      ]
     },
     "execution_count": 140,
     "metadata": {},
     "output_type": "execute_result"
    }
   ],
   "source": [
    "ct"
   ]
  },
  {
   "cell_type": "code",
   "execution_count": 141,
   "metadata": {},
   "outputs": [
    {
     "data": {
      "text/plain": [
       "[[]]"
      ]
     },
     "execution_count": 141,
     "metadata": {},
     "output_type": "execute_result"
    }
   ],
   "source": [
    "fullname"
   ]
  },
  {
   "cell_type": "code",
   "execution_count": null,
   "metadata": {},
   "outputs": [],
   "source": []
  }
 ],
 "metadata": {
  "kernelspec": {
   "display_name": "Python 3",
   "language": "python",
   "name": "python3"
  },
  "language_info": {
   "codemirror_mode": {
    "name": "ipython",
    "version": 3
   },
   "file_extension": ".py",
   "mimetype": "text/x-python",
   "name": "python",
   "nbconvert_exporter": "python",
   "pygments_lexer": "ipython3",
   "version": "3.8.5"
  }
 },
 "nbformat": 4,
 "nbformat_minor": 4
}
